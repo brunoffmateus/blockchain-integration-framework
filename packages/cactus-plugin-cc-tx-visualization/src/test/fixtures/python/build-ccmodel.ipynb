{
 "cells": [
  {
   "cell_type": "code",
   "execution_count": null,
   "id": "7da5c4f1-8c61-4c15-9f2c-8c379877b3e1",
   "metadata": {},
   "outputs": [
    {
     "name": "stdout",
     "output_type": "stream",
     "text": [
      "['/usr/local/lib/python3.8/dist-packages/ipykernel_launcher.py', '-f', '/home/bruno/.local/share/jupyter/runtime/kernel-841f5a52-e638-4618-8979-ee29ba2386be.json']\n",
      "/home/bruno/Documentos/blockchain-integration-framework/packages/cactus-plugin-cc-tx-visualization/src/test/fixtures/../csv/use-case-besu-fabric-6-events.csv\n"
     ]
    }
   ],
   "source": [
    "import os\n",
    "import sys\n",
    "path = os.getcwd()\n",
    "parent = os.path.dirname(path)\n",
    "\n",
    "# Change path if necessary\n",
    "file_path = parent + \"/../csv/use-case-besu-fabric-6-events.csv\"\n",
    "file_path_other_model = parent + \"/../csv/dummy-use-case-invalid.csv\"\n",
    "\n",
    "if __name__ == '__main__':\n",
    "    print(sys.argv)\n",
    "    print(file_path)"
   ]
  },
  {
   "cell_type": "code",
   "execution_count": 3,
   "id": "424a151b-db3a-4de6-9d60-245702ae2f78",
   "metadata": {},
   "outputs": [],
   "source": [
    "def import_csv_original(file_path):\n",
    "    event_log = pandas.read_csv(file_path, sep=';')\n",
    "    event_log = pm4py.format_dataframe(event_log, case_id='caseID', activity_key='methodName', timestamp_key='timestamp')\n",
    "    return event_log\n",
    "\n",
    "def getStartActivities(event_log):\n",
    "    s = pm4py.get_start_activities(event_log)\n",
    "    print(\"Start activities: {}\\n\".format(s))\n",
    "    return s\n",
    "\n",
    "def getEndActivities(event_log):\n",
    "    e = pm4py.get_end_activities(event_log)\n",
    "    print(\"End activities: {}\\n\".format(e))\n",
    "    return (e)\n",
    "\n",
    "def getAttributeFromLog(event_log, attr):\n",
    "    entries = pm4py.get_event_attribute_values(event_log,attr)\n",
    "    print(\"Entries: {}\\n\".format(entries))\n",
    "    return entries"
   ]
  },
  {
   "cell_type": "code",
   "execution_count": 7,
   "id": "a29f7b9f-d6b7-4b3e-a204-6eb05f2ccb51",
   "metadata": {},
   "outputs": [
    {
     "name": "stdout",
     "output_type": "stream",
     "text": [
      "['/usr/local/lib/python3.8/dist-packages/ipykernel_launcher.py', '-f', '/home/bruno/.local/share/jupyter/runtime/kernel-841f5a52-e638-4618-8979-ee29ba2386be.json']\n",
      "/home/bruno/Documentos/blockchain-integration-framework/packages/cactus-plugin-cc-tx-visualization/src/test/fixtures/blockchain-integration-framework/packages/cactus-plugin-cc-tx-visualization/src/main/csv/-f\n"
     ]
    },
    {
     "ename": "NameError",
     "evalue": "name 'time' is not defined",
     "output_type": "error",
     "traceback": [
      "\u001b[0;31m---------------------------------------------------------------------------\u001b[0m",
      "\u001b[0;31mNameError\u001b[0m                                 Traceback (most recent call last)",
      "Cell \u001b[0;32mIn[7], line 32\u001b[0m\n\u001b[1;32m     30\u001b[0m file_path \u001b[38;5;241m=\u001b[39m parent \u001b[38;5;241m+\u001b[39m CSV_DIR \u001b[38;5;241m+\u001b[39m CSV_FILE\n\u001b[1;32m     31\u001b[0m \u001b[38;5;28mprint\u001b[39m(file_path)\n\u001b[0;32m---> 32\u001b[0m \u001b[43mmain\u001b[49m\u001b[43m(\u001b[49m\u001b[43m)\u001b[49m\n",
      "Cell \u001b[0;32mIn[7], line 2\u001b[0m, in \u001b[0;36mmain\u001b[0;34m()\u001b[0m\n\u001b[1;32m      1\u001b[0m \u001b[38;5;28;01mdef\u001b[39;00m \u001b[38;5;21mmain\u001b[39m():\n\u001b[0;32m----> 2\u001b[0m     start_time \u001b[38;5;241m=\u001b[39m \u001b[43mtime\u001b[49m\u001b[38;5;241m.\u001b[39mperf_counter()\n\u001b[1;32m      3\u001b[0m     \u001b[38;5;66;03m#######################\u001b[39;00m\n\u001b[1;32m      5\u001b[0m     \u001b[38;5;28mprint\u001b[39m(\u001b[38;5;124m\"\u001b[39m\u001b[38;5;124mpath is:\u001b[39m\u001b[38;5;130;01m\\n\u001b[39;00m\u001b[38;5;124m\"\u001b[39m, file_path)\n",
      "\u001b[0;31mNameError\u001b[0m: name 'time' is not defined"
     ]
    }
   ],
   "source": [
    "def main():\n",
    "    start_time = time.perf_counter()\n",
    "    #######################\n",
    "\n",
    "    print(\"path is:\\n\", file_path)\n",
    "    log = import_csv_original(file_path)\n",
    "    print(log)\n",
    "    print(\"leght is\", len(log))\n",
    "    startAct = getStartActivities(log)\n",
    "    endAct = getEndActivities(log)\n",
    "    timestamps = getAttributeFromLog(log, \"timestamp\")\n",
    "\n",
    "    process_tree = pm4py.discover_process_tree_inductive(log)\n",
    "    print(\"generated-process-tree:\",process_tree)\n",
    "\n",
    "\n",
    "    #######################\n",
    "    end_time = time.perf_counter()\n",
    "    timeDiff = end_time - start_time\n",
    "\n",
    "    # in ms\n",
    "    print(f\"EVAL-buildCCModel:{timeDiff*1000:0.2f}\" )\n",
    "\n",
    "if __name__ == '__main__':\n",
    "    print(sys.argv)\n",
    "    CSV_FILE = sys.argv[1]\n",
    "    OUTPUT_DIR = \"/blockchain-integration-framework/packages/cactus-plugin-cc-tx-visualization/src/main/test-results/\"\n",
    "    CSV_DIR = \"/blockchain-integration-framework/packages/cactus-plugin-cc-tx-visualization/src/main/csv/\"\n",
    "   \n",
    "    file_path = parent + CSV_DIR + CSV_FILE\n",
    "    print(file_path)\n",
    "    main()"
   ]
  }
 ],
 "metadata": {
  "kernelspec": {
   "display_name": "Python 3 (ipykernel)",
   "language": "python",
   "name": "python3"
  },
  "language_info": {
   "codemirror_mode": {
    "name": "ipython",
    "version": 3
   },
   "file_extension": ".py",
   "mimetype": "text/x-python",
   "name": "python",
   "nbconvert_exporter": "python",
   "pygments_lexer": "ipython3",
   "version": "3.8.10"
  }
 },
 "nbformat": 4,
 "nbformat_minor": 5
}
