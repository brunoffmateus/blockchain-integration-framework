{
 "cells": [
  {
   "cell_type": "code",
   "execution_count": 2,
   "metadata": {
    "collapsed": false,
    "jupyter": {
     "outputs_hidden": false
    },
    "pycharm": {
     "name": "#%%\n"
    }
   },
   "outputs": [
    {
     "name": "stdout",
     "output_type": "stream",
     "text": [
      "['/usr/local/lib/python3.8/dist-packages/ipykernel_launcher.py', '-f', '/home/bruno/.local/share/jupyter/runtime/kernel-85cfe7fb-4cec-4b85-affb-ff95bb09e084.json']\n",
      "/home/bruno/Documentos/blockchain-integration-framework/packages/cactus-plugin-cc-tx-visualization/src/test/fixtures\n",
      "/home/bruno/Documentos/blockchain-integration-framework/packages/cactus-plugin-cc-tx-visualization/src/test/fixtures/../csv/use-case-besu-fabric-6-events.csv\n"
     ]
    }
   ],
   "source": [
    "import os\n",
    "# uncomment if problems with dependencies\n",
    "# %pip install pm4py\n",
    "# %pip install pandas\n",
    "import pm4py\n",
    "import datetime as dt\n",
    "import time\n",
    "import pandas\n",
    "\n",
    "from pm4py.visualization.petri_net import visualizer as pn_visualizer\n",
    "\n",
    "path = os.getcwd()\n",
    "parent = os.path.dirname(path)\n",
    "\n",
    "# Change path if necessary \n",
    "file_path = parent + \"/../csv/use-case-besu-fabric-6-events.csv\"\n",
    "file_path_other_model = parent + \"/../csv/dummy-use-case-invalid.csv\"\n",
    "\n",
    "import sys\n",
    "\n",
    "if __name__ == '__main__':\n",
    "    print(sys.argv)\n",
    "    print(parent)\n",
    "    print(file_path)\n",
    "\n",
    "\n",
    "\n",
    "# import sys\n",
    "\n",
    "# accept command line arguments\n",
    "# inputArg1 = sys.argv[1]\n",
    "\n",
    "#print('inputArg1: ',inputArg1)\n"
   ]
  },
  {
   "cell_type": "code",
   "execution_count": 3,
   "metadata": {
    "collapsed": false,
    "jupyter": {
     "outputs_hidden": false
    },
    "pycharm": {
     "name": "#%%\n"
    }
   },
   "outputs": [],
   "source": [
    "def import_csv_original(file_path):\n",
    "    event_log = pandas.read_csv(file_path, sep=';')\n",
    "    event_log = pm4py.format_dataframe(event_log, case_id='caseID', activity_key='methodName', timestamp_key='timestamp')\n",
    "    return event_log\n",
    "\n",
    "def getStartActivities(event_log):\n",
    "    s = pm4py.get_start_activities(event_log)\n",
    "    print(\"Start activities: {}\\n\".format(s))\n",
    "    return s\n",
    "def getEndActivities(event_log):\n",
    "    e = pm4py.get_end_activities(event_log)\n",
    "    print(\"End activities: {}\\n\".format(e))\n",
    "    return (e)\n",
    "\n",
    "def getAttributeFromLog(event_log, attr):\n",
    "    entries = pm4py.get_event_attribute_values(event_log,attr)\n",
    "    print(\"Entries: {}\\n\".format(entries))\n",
    "    return entries\n"
   ]
  },
  {
   "cell_type": "code",
   "execution_count": 4,
   "metadata": {},
   "outputs": [
    {
     "name": "stdout",
     "output_type": "stream",
     "text": [
      "[{'alignment': [('InitializeAsset', '>>'), ('>>', 'createAsset'), ('>>', 'lockAsset'), ('CreateAsset', 'CreateAsset'), ('LockAsset', '>>'), ('TransferAsset', 'TransferAsset'), ('>>', None), ('TransferAsset', 'TransferAsset'), ('DeleteAsset', 'DeleteAsset')], 'cost': 40001, 'visited_states': 9, 'queued_states': 23, 'traversed_arcs': 24, 'lp_solved': 2, 'fitness': 0.6363636363636364, 'bwc': 110000}, {'alignment': [('InitializeAsset', '>>'), ('>>', 'createAsset'), ('>>', 'lockAsset'), ('CreateAsset', 'CreateAsset'), ('LockAsset', '>>'), ('TransferAsset', 'TransferAsset'), ('>>', None), ('TransferAsset', 'TransferAsset'), ('DeleteAsset', 'DeleteAsset')], 'cost': 40001, 'visited_states': 9, 'queued_states': 23, 'traversed_arcs': 24, 'lp_solved': 2, 'fitness': 0.6363636363636364, 'bwc': 110000}]\n"
     ]
    }
   ],
   "source": [
    "\n",
    "log = import_csv_original(file_path)\n",
    "log_other_model = import_csv_original(file_path_other_model)\n",
    "\n",
    "net, initial_marking, final_marking = pm4py.discover_petri_net_inductive(log)\n",
    "\n",
    "aligned_traces = pm4py.conformance_diagnostics_alignments(log_other_model, net, initial_marking, final_marking)\n",
    "\n",
    "print(aligned_traces)\n"
   ]
  },
  {
   "cell_type": "code",
   "execution_count": 6,
   "metadata": {},
   "outputs": [
    {
     "ename": "NameError",
     "evalue": "name 'pn_visualizer' is not defined",
     "output_type": "error",
     "traceback": [
      "\u001b[0;31m---------------------------------------------------------------------------\u001b[0m",
      "\u001b[0;31mNameError\u001b[0m                                 Traceback (most recent call last)",
      "Cell \u001b[0;32mIn[6], line 6\u001b[0m\n\u001b[1;32m      2\u001b[0m log_other_model \u001b[38;5;241m=\u001b[39m import_csv_original(file_path_other_model)\n\u001b[1;32m      4\u001b[0m net, initial_marking, final_marking \u001b[38;5;241m=\u001b[39m pm4py\u001b[38;5;241m.\u001b[39mdiscover_petri_net_inductive(log)\n\u001b[0;32m----> 6\u001b[0m gviz \u001b[38;5;241m=\u001b[39m \u001b[43mpn_visualizer\u001b[49m\u001b[38;5;241m.\u001b[39mapply(net, initial_marking, final_marking)\n\u001b[1;32m      7\u001b[0m pn_visualizer\u001b[38;5;241m.\u001b[39mview(gviz)\n\u001b[1;32m      9\u001b[0m \u001b[38;5;28mprint\u001b[39m(net)\n",
      "\u001b[0;31mNameError\u001b[0m: name 'pn_visualizer' is not defined"
     ]
    }
   ],
   "source": [
    "\n",
    "log = import_csv_original(file_path)\n",
    "log_other_model = import_csv_original(file_path_other_model)\n",
    "\n",
    "net, initial_marking, final_marking = pm4py.discover_petri_net_inductive(log)\n",
    "\n",
    "gviz = pn_visualizer.apply(net, initial_marking, final_marking)\n",
    "pn_visualizer.view(gviz)\n",
    "\n",
    "print(net)\n",
    "\n",
    "aligned_traces = pm4py.conformance_diagnostics_alignments(log_other_model, net, initial_marking, final_marking)\n",
    "\n",
    "print(aligned_traces)\n"
   ]
  }
 ],
 "metadata": {
  "kernelspec": {
   "display_name": "Python 3 (ipykernel)",
   "language": "python",
   "name": "python3"
  },
  "language_info": {
   "codemirror_mode": {
    "name": "ipython",
    "version": 3
   },
   "file_extension": ".py",
   "mimetype": "text/x-python",
   "name": "python",
   "nbconvert_exporter": "python",
   "pygments_lexer": "ipython3",
   "version": "3.8.10"
  },
  "vscode": {
   "interpreter": {
    "hash": "aee8b7b246df8f9039afb4144a1f6fd8d2ca17a180786b69acc140d282b71a49"
   }
  }
 },
 "nbformat": 4,
 "nbformat_minor": 4
}
